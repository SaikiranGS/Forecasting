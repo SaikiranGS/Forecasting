{
 "cells": [
  {
   "cell_type": "markdown",
   "metadata": {},
   "source": [
    "# Arima model for AirPassengers dataset"
   ]
  },
  {
   "cell_type": "code",
   "execution_count": 27,
   "metadata": {},
   "outputs": [
    {
     "name": "stdout",
     "output_type": "stream",
     "text": [
      "       Month  Passengers\n",
      "139  1960-08         606\n",
      "140  1960-09         508\n",
      "141  1960-10         461\n",
      "142  1960-11         390\n",
      "143  1960-12         432\n"
     ]
    }
   ],
   "source": [
    "from pandas import Series\n",
    "from pandas import datetime\n",
    "import pandas as pd\n",
    "from matplotlib import pyplot\n",
    "import statsmodels.api as sm\n",
    "from statsmodels.tsa.arima_model import ARIMA\n",
    "import itertools\n",
    "import warnings\n",
    "import numpy as np\n",
    "import math\n",
    "from pandas.tools.plotting import autocorrelation_plot\n",
    "warnings.filterwarnings(\"ignore\")\n",
    "series = pd.read_csv('C:\\\\Users\\\\saikiran\\\\Downloads\\\\AirPassengers.csv', sep=\",\")\n",
    "print(series.tail(5))"
   ]
  },
  {
   "cell_type": "code",
   "execution_count": 2,
   "metadata": {},
   "outputs": [
    {
     "name": "stdout",
     "output_type": "stream",
     "text": [
      "Dataset 132, Validation 12\n",
      "       Month  Passengers\n",
      "132  1960-01         417\n",
      "133  1960-02         391\n",
      "134  1960-03         419\n",
      "135  1960-04         461\n",
      "136  1960-05         472\n",
      "137  1960-06         535\n",
      "138  1960-07         622\n",
      "139  1960-08         606\n",
      "140  1960-09         508\n",
      "141  1960-10         461\n",
      "142  1960-11         390\n",
      "143  1960-12         432\n",
      "<class 'numpy.ndarray'>\n"
     ]
    }
   ],
   "source": [
    "#splitting data to training and validation\n",
    "split_series = len(series) - 12\n",
    "trainset, validationset = series[0:split_series], series[split_series:]\n",
    "print('Dataset %d, Validation %d' % (len(trainset), len(validationset)))\n",
    "print(validationset)\n",
    "observed = trainset['Passengers']\n",
    "observed= np.asarray(observed)\n",
    "print(type(observed))"
   ]
  },
  {
   "cell_type": "code",
   "execution_count": 3,
   "metadata": {},
   "outputs": [
    {
     "name": "stdout",
     "output_type": "stream",
     "text": [
      "[(0, 0, 0, 12), (0, 0, 1, 12), (0, 1, 0, 12), (0, 1, 1, 12), (1, 0, 0, 12), (1, 0, 1, 12), (1, 1, 0, 12), (1, 1, 1, 12)]\n"
     ]
    }
   ],
   "source": [
    "#performing a grid search for various p,d and q values\n",
    "p = range(0, 2)\n",
    "d = range(0, 2)\n",
    "q = range(0, 2)\n",
    "pdq = list(itertools.product(p, d, q))\n",
    "seasonal_pdq = [(x[0], x[1], x[2], 12) for x in pdq]\n",
    "print(seasonal_pdq)\n"
   ]
  },
  {
   "cell_type": "code",
   "execution_count": 4,
   "metadata": {},
   "outputs": [
    {
     "name": "stdout",
     "output_type": "stream",
     "text": [
      "ARIMA(0, 0, 0)x(0, 0, 1, 12) - AIC:1575.2927100521529\n",
      "ARIMA(0, 0, 0)x(0, 1, 1, 12) - AIC:1039.3684612710642\n",
      "ARIMA(0, 0, 0)x(1, 0, 0, 12) - AIC:1018.1128824449078\n",
      "ARIMA(0, 0, 0)x(1, 0, 1, 12) - AIC:1008.0082399525209\n",
      "ARIMA(0, 0, 0)x(1, 1, 0, 12) - AIC:999.1896494904967\n",
      "ARIMA(0, 0, 0)x(1, 1, 1, 12) - AIC:930.7565628459041\n",
      "ARIMA(0, 0, 1)x(0, 0, 0, 12) - AIC:1670.9731705571571\n",
      "ARIMA(0, 0, 1)x(0, 0, 1, 12) - AIC:1409.630843618917\n",
      "ARIMA(0, 0, 1)x(0, 1, 0, 12) - AIC:1071.9868359596467\n",
      "ARIMA(0, 0, 1)x(0, 1, 1, 12) - AIC:954.9732785958596\n",
      "ARIMA(0, 0, 1)x(1, 0, 0, 12) - AIC:962.7908430128998\n",
      "ARIMA(0, 0, 1)x(1, 0, 1, 12) - AIC:941.9746014541223\n",
      "ARIMA(0, 0, 1)x(1, 1, 0, 12) - AIC:947.4386036577959\n",
      "ARIMA(0, 0, 1)x(1, 1, 1, 12) - AIC:876.8976472268058\n",
      "ARIMA(0, 1, 0)x(0, 0, 1, 12) - AIC:1066.5001391578762\n",
      "ARIMA(0, 1, 0)x(0, 1, 1, 12) - AIC:814.9661546286911\n",
      "ARIMA(0, 1, 0)x(1, 0, 0, 12) - AIC:901.900047525677\n",
      "ARIMA(0, 1, 0)x(1, 0, 1, 12) - AIC:882.2776805554882\n",
      "ARIMA(0, 1, 0)x(1, 1, 0, 12) - AIC:821.6405586698066\n",
      "ARIMA(0, 1, 0)x(1, 1, 1, 12) - AIC:815.1388167150888\n",
      "ARIMA(0, 1, 1)x(0, 0, 0, 12) - AIC:1245.631984487078\n",
      "ARIMA(0, 1, 1)x(0, 0, 1, 12) - AIC:1053.9248192171947\n",
      "ARIMA(0, 1, 1)x(0, 1, 0, 12) - AIC:887.2936971141639\n",
      "ARIMA(0, 1, 1)x(0, 1, 1, 12) - AIC:803.4111310810478\n",
      "ARIMA(0, 1, 1)x(1, 0, 0, 12) - AIC:892.887440500159\n",
      "ARIMA(0, 1, 1)x(1, 0, 1, 12) - AIC:863.2617743133081\n",
      "ARIMA(0, 1, 1)x(1, 1, 0, 12) - AIC:817.7933920131471\n",
      "ARIMA(0, 1, 1)x(1, 1, 1, 12) - AIC:802.8580194674425\n",
      "ARIMA(1, 0, 0)x(0, 0, 0, 12) - AIC:1278.2458443888524\n",
      "ARIMA(1, 0, 0)x(0, 0, 1, 12) - AIC:1077.0858909445237\n",
      "ARIMA(1, 0, 0)x(0, 1, 0, 12) - AIC:905.7521288987195\n",
      "ARIMA(1, 0, 0)x(0, 1, 1, 12) - AIC:822.7598554087447\n",
      "ARIMA(1, 0, 0)x(1, 0, 0, 12) - AIC:893.5742879048124\n",
      "ARIMA(1, 0, 0)x(1, 0, 1, 12) - AIC:880.233014815368\n",
      "ARIMA(1, 0, 0)x(1, 1, 0, 12) - AIC:822.5432823653695\n",
      "ARIMA(1, 0, 0)x(1, 1, 1, 12) - AIC:831.3170042658196\n",
      "ARIMA(1, 0, 1)x(0, 0, 0, 12) - AIC:1256.5507739583995\n",
      "ARIMA(1, 0, 1)x(0, 0, 1, 12) - AIC:1064.6671829896395\n",
      "ARIMA(1, 0, 1)x(0, 1, 0, 12) - AIC:895.4819722655033\n",
      "ARIMA(1, 0, 1)x(0, 1, 1, 12) - AIC:812.927942616161\n",
      "ARIMA(1, 0, 1)x(1, 0, 0, 12) - AIC:889.6927487836203\n",
      "ARIMA(1, 0, 1)x(1, 0, 1, 12) - AIC:867.7584455083967\n",
      "ARIMA(1, 0, 1)x(1, 1, 0, 12) - AIC:819.4447145083974\n",
      "ARIMA(1, 0, 1)x(1, 1, 1, 12) - AIC:819.4243737233694\n",
      "ARIMA(1, 1, 0)x(0, 0, 0, 12) - AIC:1257.9634107014663\n",
      "ARIMA(1, 1, 0)x(0, 0, 1, 12) - AIC:1063.0736082639808\n",
      "ARIMA(1, 1, 0)x(0, 1, 0, 12) - AIC:893.0941782749966\n",
      "ARIMA(1, 1, 0)x(0, 1, 1, 12) - AIC:810.3950674867865\n",
      "ARIMA(1, 1, 0)x(1, 0, 0, 12) - AIC:884.6501491722395\n",
      "ARIMA(1, 1, 0)x(1, 0, 1, 12) - AIC:869.025036882868\n",
      "ARIMA(1, 1, 0)x(1, 1, 0, 12) - AIC:810.1697343725425\n",
      "ARIMA(1, 1, 0)x(1, 1, 1, 12) - AIC:810.0538746711177\n",
      "ARIMA(1, 1, 1)x(0, 0, 0, 12) - AIC:1240.0096159726377\n",
      "ARIMA(1, 1, 1)x(0, 0, 1, 12) - AIC:1047.047612871338\n",
      "ARIMA(1, 1, 1)x(0, 1, 0, 12) - AIC:887.580954418245\n",
      "ARIMA(1, 1, 1)x(0, 1, 1, 12) - AIC:803.7012277205233\n",
      "ARIMA(1, 1, 1)x(1, 0, 0, 12) - AIC:886.2868948284427\n",
      "ARIMA(1, 1, 1)x(1, 0, 1, 12) - AIC:864.4184468818146\n",
      "ARIMA(1, 1, 1)x(1, 1, 0, 12) - AIC:811.2171076080618\n",
      "ARIMA(1, 1, 1)x(1, 1, 1, 12) - AIC:803.3627295936601\n",
      "minimum aic is: 802.858019467\n"
     ]
    }
   ],
   "source": [
    "aic_list=[]\n",
    "for i in pdq:\n",
    "    for j in seasonal_pdq:\n",
    "        try:\n",
    "            model = sm.tsa.statespace.SARIMAX(observed,order=i,seasonal_order=j,enforce_stationarity=False,enforce_invertibility=False)\n",
    "            results = model.fit()\n",
    "            aic_list.append(results.aic)\n",
    "            print('ARIMA{}x{} - AIC:{}'.format(i, j, results.aic))\n",
    "        except:\n",
    "            continue\n",
    "print(\"minimum aic is:\",min(aic_list))"
   ]
  },
  {
   "cell_type": "code",
   "execution_count": 5,
   "metadata": {},
   "outputs": [
    {
     "name": "stdout",
     "output_type": "stream",
     "text": [
      "Aic value is : 802.858019467\n",
      "==============================================================================\n",
      "                 coef    std err          z      P>|z|      [0.025      0.975]\n",
      "------------------------------------------------------------------------------\n",
      "ma.L1         -0.2380      0.087     -2.735      0.006      -0.409      -0.067\n",
      "ar.S.L12      -0.6332      0.166     -3.825      0.000      -0.958      -0.309\n",
      "ma.S.L12       0.5695      0.252      2.263      0.024       0.076       1.063\n",
      "sigma2       109.1523     17.692      6.170      0.000      74.477     143.828\n",
      "==============================================================================\n"
     ]
    }
   ],
   "source": [
    "#training the model with the parameters of least Aic value\n",
    "model = sm.tsa.statespace.SARIMAX(observed,\n",
    "                                order=(0,1,1),\n",
    "                                seasonal_order=(1, 1,1, 12),\n",
    "                                enforce_stationarity=False,\n",
    "                                enforce_invertibility=False)\n",
    "\n",
    "results = model.fit()\n",
    "print(\"Aic value is :\",results.aic)\n",
    "\n",
    "print(results.summary().tables[1])\n"
   ]
  },
  {
   "cell_type": "code",
   "execution_count": 7,
   "metadata": {},
   "outputs": [
    {
     "name": "stdout",
     "output_type": "stream",
     "text": [
      "[422.52254411893955, 404.08992408934171, 466.1706832257579, 455.60032702679007, 479.38037144247312, 532.87630370347074, 607.84674857858693, 619.39300905328776, 521.77277883958448, 466.98427677564058, 421.74783753486179, 463.56355308185357]\n"
     ]
    }
   ],
   "source": [
    "#predicting the validation dataset\n",
    "start_index = 132\n",
    "end_index = 143\n",
    "forecast = list(results.predict(start=start_index, end=end_index))\n",
    "print(forecast)"
   ]
  },
  {
   "cell_type": "code",
   "execution_count": 8,
   "metadata": {},
   "outputs": [
    {
     "name": "stdout",
     "output_type": "stream",
     "text": [
      "       Month  Passengers   forcasted\n",
      "132  1960-01         417  422.522544\n",
      "133  1960-02         391  404.089924\n",
      "134  1960-03         419  466.170683\n",
      "135  1960-04         461  455.600327\n",
      "136  1960-05         472  479.380371\n",
      "137  1960-06         535  532.876304\n",
      "138  1960-07         622  607.846749\n",
      "139  1960-08         606  619.393009\n",
      "140  1960-09         508  521.772779\n",
      "141  1960-10         461  466.984277\n",
      "142  1960-11         390  421.747838\n",
      "143  1960-12         432  463.563553\n"
     ]
    }
   ],
   "source": [
    "validationset['forcasted'] = forecast\n",
    "print(validationset)"
   ]
  },
  {
   "cell_type": "code",
   "execution_count": 9,
   "metadata": {},
   "outputs": [
    {
     "name": "stdout",
     "output_type": "stream",
     "text": [
      "accuracy score for validationset is: 20.6648366657858\n"
     ]
    }
   ],
   "source": [
    "#calculating the RMSE of the validation set\n",
    "error = list((validationset['Passengers']-validationset['forcasted'])**2)\n",
    "RMSE = math.sqrt(sum(error)/len(error))\n",
    "print(\"accuracy score for validationset is:\",RMSE)"
   ]
  },
  {
   "cell_type": "code",
   "execution_count": 10,
   "metadata": {},
   "outputs": [
    {
     "data": {
      "image/png": "[encoded data removed]",
      "text/plain": [
       "<matplotlib.figure.Figure at 0x20d376fe6d8>"
      ]
     },
     "metadata": {},
     "output_type": "display_data"
    },
    {
     "data": {
      "image/png": "[encoded data removed]",
      "text/plain": [
       "<matplotlib.figure.Figure at 0x20d376fe2e8>"
      ]
     },
     "metadata": {},
     "output_type": "display_data"
    }
   ],
   "source": [
    "trainset.plot()\n",
    "validationset.plot()\n",
    "pyplot.show()"
   ]
  },
  {
   "cell_type": "markdown",
   "metadata": {
    "collapsed": true
   },
   "source": [
    "# Arima model for daily minimum temperature dataset"
   ]
  },
  {
   "cell_type": "code",
   "execution_count": 11,
   "metadata": {},
   "outputs": [
    {
     "name": "stdout",
     "output_type": "stream",
     "text": [
      "         Date  Daily minimum temperatures in Melbourne, Australia, 1981-1990\n",
      "0  1981-01-01                                               20.7            \n",
      "1  1981-01-02                                               17.9            \n",
      "2  1981-01-03                                               18.8            \n",
      "3  1981-01-04                                               14.6            \n",
      "4  1981-01-05                                               15.8            \n"
     ]
    }
   ],
   "source": [
    "series2 = pd.read_csv('C:\\\\Users\\\\saikiran\\\\Downloads\\\\daily-minimum-temperatures-in-me.csv', sep=\",\")\n",
    "series2 = series2.convert_objects(convert_numeric=True)\n",
    "series2 = series2.fillna(series2.mean())\n",
    "print(series2.head(5))"
   ]
  },
  {
   "cell_type": "code",
   "execution_count": 12,
   "metadata": {},
   "outputs": [
    {
     "name": "stdout",
     "output_type": "stream",
     "text": [
      "Dataset 3285, Validation 365\n",
      "<class 'numpy.ndarray'>\n",
      "            Date  \\\n",
      "3285  1990-01-01   \n",
      "3286  1990-01-02   \n",
      "3287  1990-01-03   \n",
      "3288  1990-01-04   \n",
      "3289  1990-01-05   \n",
      "3290  1990-01-06   \n",
      "3291  1990-01-07   \n",
      "3292  1990-01-08   \n",
      "3293  1990-01-09   \n",
      "3294  1990-01-10   \n",
      "3295  1990-01-11   \n",
      "3296  1990-01-12   \n",
      "3297  1990-01-13   \n",
      "3298  1990-01-14   \n",
      "3299  1990-01-15   \n",
      "3300  1990-01-16   \n",
      "3301  1990-01-17   \n",
      "3302  1990-01-18   \n",
      "3303  1990-01-19   \n",
      "3304  1990-01-20   \n",
      "3305  1990-01-21   \n",
      "3306  1990-01-22   \n",
      "3307  1990-01-23   \n",
      "3308  1990-01-24   \n",
      "3309  1990-01-25   \n",
      "3310  1990-01-26   \n",
      "3311  1990-01-27   \n",
      "3312  1990-01-28   \n",
      "3313  1990-01-29   \n",
      "3314  1990-01-30   \n",
      "...          ...   \n",
      "3620  1990-12-02   \n",
      "3621  1990-12-03   \n",
      "3622  1990-12-04   \n",
      "3623  1990-12-05   \n",
      "3624  1990-12-06   \n",
      "3625  1990-12-07   \n",
      "3626  1990-12-08   \n",
      "3627  1990-12-09   \n",
      "3628  1990-12-10   \n",
      "3629  1990-12-11   \n",
      "3630  1990-12-12   \n",
      "3631  1990-12-13   \n",
      "3632  1990-12-14   \n",
      "3633  1990-12-15   \n",
      "3634  1990-12-16   \n",
      "3635  1990-12-17   \n",
      "3636  1990-12-18   \n",
      "3637  1990-12-19   \n",
      "3638  1990-12-20   \n",
      "3639  1990-12-21   \n",
      "3640  1990-12-22   \n",
      "3641  1990-12-23   \n",
      "3642  1990-12-24   \n",
      "3643  1990-12-25   \n",
      "3644  1990-12-26   \n",
      "3645  1990-12-27   \n",
      "3646  1990-12-28   \n",
      "3647  1990-12-29   \n",
      "3648  1990-12-30   \n",
      "3649  1990-12-31   \n",
      "\n",
      "      Daily minimum temperatures in Melbourne, Australia, 1981-1990  \n",
      "3285                                               14.8              \n",
      "3286                                               13.3              \n",
      "3287                                               15.6              \n",
      "3288                                               14.5              \n",
      "3289                                               14.3              \n",
      "3290                                               15.3              \n",
      "3291                                               16.4              \n",
      "3292                                               14.8              \n",
      "3293                                               17.4              \n",
      "3294                                               18.8              \n",
      "3295                                               22.1              \n",
      "3296                                               19.0              \n",
      "3297                                               15.5              \n",
      "3298                                               15.8              \n",
      "3299                                               14.7              \n",
      "3300                                               10.7              \n",
      "3301                                               11.5              \n",
      "3302                                               15.0              \n",
      "3303                                               14.5              \n",
      "3304                                               14.5              \n",
      "3305                                               13.3              \n",
      "3306                                               14.3              \n",
      "3307                                               14.3              \n",
      "3308                                               20.5              \n",
      "3309                                               15.0              \n",
      "3310                                               17.1              \n",
      "3311                                               16.9              \n",
      "3312                                               16.9              \n",
      "3313                                               13.6              \n",
      "3314                                               16.4              \n",
      "...                                                 ...              \n",
      "3620                                               13.2              \n",
      "3621                                               16.2              \n",
      "3622                                               17.3              \n",
      "3623                                               20.5              \n",
      "3624                                               20.2              \n",
      "3625                                               19.4              \n",
      "3626                                               15.5              \n",
      "3627                                               14.1              \n",
      "3628                                               11.0              \n",
      "3629                                               11.1              \n",
      "3630                                               14.0              \n",
      "3631                                               11.4              \n",
      "3632                                               12.5              \n",
      "3633                                               13.4              \n",
      "3634                                               13.6              \n",
      "3635                                               13.9              \n",
      "3636                                               17.2              \n",
      "3637                                               14.7              \n",
      "3638                                               15.4              \n",
      "3639                                               13.1              \n",
      "3640                                               13.2              \n",
      "3641                                               13.9              \n",
      "3642                                               10.0              \n",
      "3643                                               12.9              \n",
      "3644                                               14.6              \n",
      "3645                                               14.0              \n",
      "3646                                               13.6              \n",
      "3647                                               13.5              \n",
      "3648                                               15.7              \n",
      "3649                                               13.0              \n",
      "\n",
      "[365 rows x 2 columns]\n"
     ]
    }
   ],
   "source": [
    "#splitting the data to training and validation\n",
    "split_series = len(series2) - 365\n",
    "trainset, validationset = series2[0:split_series], series2[split_series:]\n",
    "print('Dataset %d, Validation %d' % (len(trainset), len(validationset)))\n",
    "#print(validationset)\n",
    "observed = trainset['Daily minimum temperatures in Melbourne, Australia, 1981-1990']\n",
    "observed= np.asarray(observed)\n",
    "\n",
    "print(type(observed))\n",
    "print(validationset)"
   ]
  },
  {
   "cell_type": "code",
   "execution_count": 13,
   "metadata": {},
   "outputs": [
    {
     "name": "stdout",
     "output_type": "stream",
     "text": [
      "[(0, 0, 0, 12), (0, 0, 1, 12), (0, 1, 0, 12), (0, 1, 1, 12), (1, 0, 0, 12), (1, 0, 1, 12), (1, 1, 0, 12), (1, 1, 1, 12)]\n"
     ]
    }
   ],
   "source": [
    "#performing a grid search for various p,d,q values \n",
    "p = range(0, 2)\n",
    "d = range(0, 2)\n",
    "q = range(0, 2)\n",
    "pdq = list(itertools.product(p, d, q))\n",
    "seasonal_pdq = [(x[0], x[1], x[2], 12) for x in pdq]\n",
    "print(seasonal_pdq)"
   ]
  },
  {
   "cell_type": "code",
   "execution_count": 14,
   "metadata": {},
   "outputs": [
    {
     "name": "stdout",
     "output_type": "stream",
     "text": [
      "ARIMA(0, 0, 0)x(0, 0, 1, 12) - AIC:22700.06730059949\n",
      "ARIMA(0, 0, 0)x(0, 1, 1, 12) - AIC:17188.484151618228\n",
      "ARIMA(0, 0, 0)x(1, 0, 0, 12) - AIC:18136.851451157898\n",
      "ARIMA(0, 0, 0)x(1, 0, 1, 12) - AIC:17243.18164601652\n",
      "ARIMA(0, 0, 0)x(1, 1, 0, 12) - AIC:17388.803748028084\n",
      "ARIMA(0, 0, 0)x(1, 1, 1, 12) - AIC:17183.216987311855\n",
      "ARIMA(0, 0, 1)x(0, 0, 0, 12) - AIC:22060.33925852189\n",
      "ARIMA(0, 0, 1)x(0, 0, 1, 12) - AIC:20179.962509588775\n",
      "ARIMA(0, 0, 1)x(0, 1, 0, 12) - AIC:17370.652743372797\n",
      "ARIMA(0, 0, 1)x(0, 1, 1, 12) - AIC:16120.980015427076\n",
      "ARIMA(0, 0, 1)x(1, 0, 0, 12) - AIC:17229.59703702861\n",
      "ARIMA(0, 0, 1)x(1, 0, 1, 12) - AIC:16166.931679621763\n",
      "ARIMA(0, 0, 1)x(1, 1, 0, 12) - AIC:16478.92781756854\n",
      "ARIMA(0, 0, 1)x(1, 1, 1, 12) - AIC:16122.521106778804\n",
      "ARIMA(0, 1, 0)x(0, 0, 1, 12) - AIC:15939.864120567543\n",
      "ARIMA(0, 1, 0)x(0, 1, 1, 12) - AIC:15943.970362408214\n",
      "ARIMA(0, 1, 0)x(1, 0, 0, 12) - AIC:15946.779946886792\n",
      "ARIMA(0, 1, 0)x(1, 0, 1, 12) - AIC:15938.524297323775\n",
      "ARIMA(0, 1, 0)x(1, 1, 0, 12) - AIC:17261.628285026574\n",
      "ARIMA(0, 1, 0)x(1, 1, 1, 12) - AIC:15945.968306348095\n",
      "ARIMA(0, 1, 1)x(0, 0, 0, 12) - AIC:15668.660762633917\n",
      "ARIMA(0, 1, 1)x(0, 0, 1, 12) - AIC:15604.681366845787\n",
      "ARIMA(0, 1, 1)x(0, 1, 0, 12) - AIC:17926.96797890363\n",
      "ARIMA(0, 1, 1)x(0, 1, 1, 12) - AIC:15616.09674048319\n",
      "ARIMA(0, 1, 1)x(1, 0, 0, 12) - AIC:15620.935079511517\n",
      "ARIMA(0, 1, 1)x(1, 0, 1, 12) - AIC:15604.20702044901\n",
      "ARIMA(0, 1, 1)x(1, 1, 0, 12) - AIC:16972.384411618576\n",
      "ARIMA(0, 1, 1)x(1, 1, 1, 12) - AIC:15618.091980816458\n",
      "ARIMA(1, 0, 0)x(0, 0, 0, 12) - AIC:15958.817148724851\n",
      "ARIMA(1, 0, 0)x(0, 0, 1, 12) - AIC:15903.262850565026\n",
      "ARIMA(1, 0, 0)x(0, 1, 0, 12) - AIC:17291.125835604867\n",
      "ARIMA(1, 0, 0)x(0, 1, 1, 12) - AIC:15551.119650518574\n",
      "ARIMA(1, 0, 0)x(1, 0, 0, 12) - AIC:15903.23562777264\n",
      "ARIMA(1, 0, 0)x(1, 0, 1, 12) - AIC:15620.453187614248\n",
      "ARIMA(1, 0, 0)x(1, 1, 0, 12) - AIC:16366.831731058923\n",
      "ARIMA(1, 0, 0)x(1, 1, 1, 12) - AIC:15548.59406263415\n",
      "ARIMA(1, 0, 1)x(0, 0, 0, 12) - AIC:15666.66114912722\n",
      "ARIMA(1, 0, 1)x(0, 0, 1, 12) - AIC:15603.559025414434\n",
      "ARIMA(1, 0, 1)x(0, 1, 0, 12) - AIC:17263.003571775145\n",
      "ARIMA(1, 0, 1)x(0, 1, 1, 12) - AIC:15493.18949665315\n",
      "ARIMA(1, 0, 1)x(1, 0, 0, 12) - AIC:15611.881451492973\n",
      "ARIMA(1, 0, 1)x(1, 0, 1, 12) - AIC:15561.097696922037\n",
      "ARIMA(1, 0, 1)x(1, 1, 0, 12) - AIC:16346.271047328672\n",
      "ARIMA(1, 0, 1)x(1, 1, 1, 12) - AIC:15498.600676418326\n",
      "ARIMA(1, 1, 0)x(0, 0, 0, 12) - AIC:15875.400569837491\n",
      "ARIMA(1, 1, 0)x(0, 0, 1, 12) - AIC:15816.20356623632\n",
      "ARIMA(1, 1, 0)x(0, 1, 0, 12) - AIC:18106.100774334096\n",
      "ARIMA(1, 1, 0)x(0, 1, 1, 12) - AIC:15823.512252364317\n",
      "ARIMA(1, 1, 0)x(1, 0, 0, 12) - AIC:15816.248446751153\n",
      "ARIMA(1, 1, 0)x(1, 0, 1, 12) - AIC:15815.216964623134\n",
      "ARIMA(1, 1, 0)x(1, 1, 0, 12) - AIC:17149.422442284053\n",
      "ARIMA(1, 1, 0)x(1, 1, 1, 12) - AIC:15825.507603972157\n",
      "ARIMA(1, 1, 1)x(0, 0, 0, 12) - AIC:15207.181245382502\n",
      "ARIMA(1, 1, 1)x(0, 0, 1, 12) - AIC:15154.756571219612\n",
      "ARIMA(1, 1, 1)x(0, 1, 0, 12) - AIC:17286.914227903555\n",
      "ARIMA(1, 1, 1)x(0, 1, 1, 12) - AIC:15158.394220346294\n",
      "ARIMA(1, 1, 1)x(1, 0, 0, 12) - AIC:15157.779850828954\n",
      "ARIMA(1, 1, 1)x(1, 0, 1, 12) - AIC:15156.787347409372\n",
      "ARIMA(1, 1, 1)x(1, 1, 0, 12) - AIC:16376.353182242638\n",
      "ARIMA(1, 1, 1)x(1, 1, 1, 12) - AIC:15160.394009477184\n",
      "minimum aic is: 15154.7565712\n"
     ]
    }
   ],
   "source": [
    "\n",
    "aic_list=[]\n",
    "for i in pdq:\n",
    "    for j in seasonal_pdq:\n",
    "        try:\n",
    "            model = sm.tsa.statespace.SARIMAX(observed,order=i,seasonal_order=j,enforce_stationarity=False,enforce_invertibility=False)\n",
    "            results = model.fit()\n",
    "            aic_list.append(results.aic)\n",
    "            print('ARIMA{}x{} - AIC:{}'.format(i, j, results.aic))\n",
    "        except:\n",
    "            continue\n",
    "print(\"minimum aic is:\",min(aic_list))"
   ]
  },
  {
   "cell_type": "code",
   "execution_count": 21,
   "metadata": {},
   "outputs": [
    {
     "name": "stdout",
     "output_type": "stream",
     "text": [
      "Aic value is : 15154.7565712\n",
      "==============================================================================\n",
      "                 coef    std err          z      P>|z|      [0.025      0.975]\n",
      "------------------------------------------------------------------------------\n",
      "ar.L1          0.4523      0.018     24.514      0.000       0.416       0.488\n",
      "ma.L1         -0.9183      0.009   -101.729      0.000      -0.936      -0.901\n",
      "ma.S.L12      -0.0080      0.018     -0.442      0.659      -0.044       0.028\n",
      "sigma2         6.0120      0.137     43.746      0.000       5.743       6.281\n",
      "==============================================================================\n"
     ]
    }
   ],
   "source": [
    "#training the model with parameters of least AIC values\n",
    "model = sm.tsa.statespace.SARIMAX(observed,\n",
    "                                order=(1,1,1),\n",
    "                                seasonal_order=(0, 0,1, 12),\n",
    "                                enforce_stationarity=False,\n",
    "                                enforce_invertibility=False)\n",
    "\n",
    "results = model.fit()\n",
    "print(\"Aic value is :\",results.aic)\n",
    "\n",
    "print(results.summary().tables[1])"
   ]
  },
  {
   "cell_type": "code",
   "execution_count": 23,
   "metadata": {},
   "outputs": [
    {
     "name": "stdout",
     "output_type": "stream",
     "text": [
      "13.1249869102\n"
     ]
    }
   ],
   "source": [
    "#predicting the validation set\n",
    "start_index = 3285\n",
    "end_index = 3649\n",
    "forecast = list(results.predict(start=start_index, end=end_index))\n",
    "print(forecast[0])"
   ]
  },
  {
   "cell_type": "code",
   "execution_count": 24,
   "metadata": {},
   "outputs": [
    {
     "name": "stdout",
     "output_type": "stream",
     "text": [
      "            Date  \\\n",
      "3285  1990-01-01   \n",
      "3286  1990-01-02   \n",
      "3287  1990-01-03   \n",
      "3288  1990-01-04   \n",
      "3289  1990-01-05   \n",
      "\n",
      "      Daily minimum temperatures in Melbourne, Australia, 1981-1990  forcasted  \n",
      "3285                                               14.8              13.124987  \n",
      "3286                                               13.3              13.305986  \n",
      "3287                                               15.6              13.390402  \n",
      "3288                                               14.5              13.425455  \n",
      "3289                                               14.3              13.436439  \n"
     ]
    }
   ],
   "source": [
    "validationset['forcasted'] = forecast\n",
    "print(validationset.head(5))"
   ]
  },
  {
   "cell_type": "code",
   "execution_count": 25,
   "metadata": {},
   "outputs": [
    {
     "name": "stdout",
     "output_type": "stream",
     "text": [
      "accuracy score for validationset is: 4.245413787696782\n"
     ]
    }
   ],
   "source": [
    "#calculating the RMSE for the validation set\n",
    "error = list((validationset['Daily minimum temperatures in Melbourne, Australia, 1981-1990']-validationset['forcasted'])**2)\n",
    "RMSE = math.sqrt(sum(error)/len(error))\n",
    "print(\"accuracy score for validationset is:\",RMSE)"
   ]
  },
  {
   "cell_type": "code",
   "execution_count": 28,
   "metadata": {},
   "outputs": [
    {
     "data": {
      "image/png": "[encoded data removed]",
      "text/plain": [
       "<matplotlib.figure.Figure at 0x20d396c4e80>"
      ]
     },
     "metadata": {},
     "output_type": "display_data"
    },
    {
     "data": {
      "image/png": "[encoded data removed]",
      "text/plain": [
       "<matplotlib.figure.Figure at 0x20d396c4d30>"
      ]
     },
     "metadata": {},
     "output_type": "display_data"
    }
   ],
   "source": [
    "#plotting the graph of dataset\n",
    "trainset.plot()\n",
    "validationset.plot()\n",
    "pyplot.show()"
   ]
  },
  {
   "cell_type": "code",
   "execution_count": null,
   "metadata": {
    "collapsed": true
   },
   "outputs": [],
   "source": []
  }
 ],
 "metadata": {
  "kernelspec": {
   "display_name": "Python 3",
   "language": "python",
   "name": "python3"
  },
  "language_info": {
   "codemirror_mode": {
    "name": "ipython",
    "version": 3
   },
   "file_extension": ".py",
   "mimetype": "text/x-python",
   "name": "python",
   "nbconvert_exporter": "python",
   "pygments_lexer": "ipython3",
   "version": "3.5.5"
  }
 },
 "nbformat": 4,
 "nbformat_minor": 2
}
